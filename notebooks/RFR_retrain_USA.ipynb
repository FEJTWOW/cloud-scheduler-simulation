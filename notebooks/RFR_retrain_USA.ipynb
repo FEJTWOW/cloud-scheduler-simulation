{
 "cells": [
  {
   "cell_type": "code",
   "execution_count": 1,
   "id": "182e1711",
   "metadata": {},
   "outputs": [],
   "source": [
    "# Set project directory\n",
    "import os\n",
    "import sys\n",
    "\n",
    "\n",
    "def project_dir():\n",
    "    notebook_path = %pwd\n",
    "    repo_name = \"sisi\"\n",
    "    repo_folder = notebook_path.split(repo_name)[0]\n",
    "    return os.path.join(repo_folder, repo_name)\n",
    "\n",
    "\n",
    "pwd = os.getenv(\"PWD\", project_dir())\n",
    "os.environ[\"PWD\"] = pwd\n",
    "sys.path.append(pwd)"
   ]
  },
  {
   "cell_type": "code",
   "execution_count": 2,
   "id": "4b3ea524",
   "metadata": {},
   "outputs": [],
   "source": [
    "import pandas as pd\n",
    "import numpy as np\n",
    "from sklearn.ensemble import RandomForestRegressor\n",
    "from Utils.data_utils import load_train_test_data\n",
    "from matplotlib import pyplot as plt\n",
    "from pandas import Timestamp\n",
    "import time\n",
    "import pickle\n",
    "import warnings\n",
    "warnings.simplefilter(\"ignore\", category=UserWarning)\n",
    "warnings.simplefilter(\"ignore\", category=FutureWarning)"
   ]
  },
  {
   "cell_type": "code",
   "execution_count": 3,
   "id": "2757d6f2",
   "metadata": {},
   "outputs": [],
   "source": [
    "(train_list, test_list), state_list = load_train_test_data(pwd)"
   ]
  },
  {
   "cell_type": "code",
   "execution_count": 4,
   "id": "b8bc04df",
   "metadata": {},
   "outputs": [],
   "source": [
    "#Creating lag value for each state '''probably not needed'''\n",
    "for i in range(len(train_list)):\n",
    "    train_list[i]['lag1'] = train_list[i]['carbon_per_MWh'].shift(24)\n",
    "    train_list[i] = train_list[i].dropna()\n",
    "    \n",
    "for i in range(len(test_list)):\n",
    "    test_list[i]['lag1'] = test_list[i]['carbon_per_MWh'].shift(24)\n",
    "    test_list[i] = test_list[i].dropna()"
   ]
  },
  {
   "cell_type": "code",
   "execution_count": 5,
   "id": "683d30e8",
   "metadata": {},
   "outputs": [],
   "source": [
    "rf = RandomForestRegressor(n_estimators = 1000, random_state = 42)"
   ]
  },
  {
   "cell_type": "code",
   "execution_count": 6,
   "id": "b98d910a",
   "metadata": {},
   "outputs": [],
   "source": [
    "def chunks(list_in, n):\n",
    "    for i in range(0, len(list_in), n):\n",
    "        yield list_in[i:i+n]"
   ]
  },
  {
   "cell_type": "code",
   "execution_count": 7,
   "id": "ee05f77f",
   "metadata": {},
   "outputs": [],
   "source": [
    "test_splitted_list = []\n",
    "for i in range(len(test_list)):\n",
    "    test_splitted_list.append(list(chunks(test_list[i], 168)))"
   ]
  },
  {
   "cell_type": "code",
   "execution_count": 8,
   "id": "03ff98d7",
   "metadata": {},
   "outputs": [],
   "source": [
    "NUMBER_OF_TEST_LISTS_PER_STATE = len(test_splitted_list[0])"
   ]
  },
  {
   "cell_type": "code",
   "execution_count": 9,
   "id": "5a6a1669",
   "metadata": {},
   "outputs": [],
   "source": [
    "texas_jan = np.array(test_splitted_list[0][0]['carbon_per_MWh'])\n",
    "texas_train = np.array(train_list[0]['carbon_per_MWh'])"
   ]
  },
  {
   "cell_type": "code",
   "execution_count": 10,
   "id": "f9832d61",
   "metadata": {},
   "outputs": [
    {
     "data": {
      "text/plain": [
       "(30596,)"
      ]
     },
     "execution_count": 10,
     "metadata": {},
     "output_type": "execute_result"
    }
   ],
   "source": [
    "texas_train.shape"
   ]
  },
  {
   "cell_type": "code",
   "execution_count": 11,
   "id": "4b9e159d",
   "metadata": {},
   "outputs": [
    {
     "data": {
      "text/plain": [
       "(30764,)"
      ]
     },
     "execution_count": 11,
     "metadata": {},
     "output_type": "execute_result"
    }
   ],
   "source": [
    "np.hstack((texas_train,texas_jan)).shape"
   ]
  },
  {
   "cell_type": "code",
   "execution_count": 12,
   "id": "dc695fae",
   "metadata": {},
   "outputs": [
    {
     "name": "stdout",
     "output_type": "stream",
     "text": [
      "Iter 1 done. Time: 26.13\n",
      "Iter 2 done. Time: 25.85\n",
      "Iter 3 done. Time: 26.06\n",
      "Iter 4 done. Time: 26.25\n",
      "Iter 5 done. Time: 26.39\n",
      "Iter 6 done. Time: 26.61\n",
      "Iter 7 done. Time: 26.89\n",
      "Iter 8 done. Time: 27.49\n",
      "Iter 9 done. Time: 28.25\n",
      "Iter 10 done. Time: 27.57\n",
      "Iter 11 done. Time: 28.00\n",
      "Iter 12 done. Time: 28.24\n",
      "Iter 13 done. Time: 28.58\n",
      "Iter 14 done. Time: 28.97\n",
      "Iter 15 done. Time: 29.04\n",
      "Iter 16 done. Time: 29.58\n",
      "Iter 17 done. Time: 29.33\n",
      "Iter 18 done. Time: 31.79\n",
      "Iter 19 done. Time: 30.07\n",
      "Iter 1 done. Time: 22.34\n",
      "Iter 2 done. Time: 22.58\n",
      "Iter 3 done. Time: 22.74\n",
      "Iter 4 done. Time: 22.56\n",
      "Iter 5 done. Time: 22.64\n",
      "Iter 6 done. Time: 22.75\n",
      "Iter 7 done. Time: 22.81\n",
      "Iter 8 done. Time: 22.90\n",
      "Iter 9 done. Time: 22.99\n",
      "Iter 10 done. Time: 23.12\n",
      "Iter 11 done. Time: 23.82\n",
      "Iter 12 done. Time: 23.60\n",
      "Iter 13 done. Time: 23.87\n",
      "Iter 14 done. Time: 24.49\n",
      "Iter 15 done. Time: 24.64\n",
      "Iter 16 done. Time: 24.92\n",
      "Iter 17 done. Time: 24.95\n",
      "Iter 18 done. Time: 25.26\n",
      "Iter 19 done. Time: 25.47\n",
      "Iter 1 done. Time: 21.98\n",
      "Iter 2 done. Time: 22.43\n",
      "Iter 3 done. Time: 22.77\n",
      "Iter 4 done. Time: 22.75\n",
      "Iter 5 done. Time: 22.95\n",
      "Iter 6 done. Time: 22.98\n",
      "Iter 7 done. Time: 23.29\n",
      "Iter 8 done. Time: 23.33\n",
      "Iter 9 done. Time: 23.32\n",
      "Iter 10 done. Time: 23.62\n",
      "Iter 11 done. Time: 23.74\n",
      "Iter 12 done. Time: 23.90\n",
      "Iter 13 done. Time: 24.00\n",
      "Iter 14 done. Time: 24.72\n",
      "Iter 15 done. Time: 24.83\n",
      "Iter 16 done. Time: 24.85\n",
      "Iter 17 done. Time: 24.89\n",
      "Iter 18 done. Time: 25.20\n",
      "Iter 19 done. Time: 25.22\n",
      "Iter 1 done. Time: 21.25\n",
      "Iter 2 done. Time: 21.46\n",
      "Iter 3 done. Time: 21.73\n",
      "Iter 4 done. Time: 21.69\n",
      "Iter 5 done. Time: 21.94\n",
      "Iter 6 done. Time: 22.01\n",
      "Iter 7 done. Time: 22.18\n",
      "Iter 8 done. Time: 22.81\n",
      "Iter 9 done. Time: 23.12\n",
      "Iter 10 done. Time: 23.25\n",
      "Iter 11 done. Time: 23.46\n",
      "Iter 12 done. Time: 23.24\n",
      "Iter 13 done. Time: 23.23\n",
      "Iter 14 done. Time: 23.79\n",
      "Iter 15 done. Time: 23.87\n",
      "Iter 16 done. Time: 24.07\n",
      "Iter 17 done. Time: 24.33\n",
      "Iter 18 done. Time: 24.32\n",
      "Iter 19 done. Time: 24.56\n",
      "Iter 1 done. Time: 21.82\n",
      "Iter 2 done. Time: 21.88\n",
      "Iter 3 done. Time: 21.92\n",
      "Iter 4 done. Time: 22.23\n",
      "Iter 5 done. Time: 22.61\n",
      "Iter 6 done. Time: 22.37\n",
      "Iter 7 done. Time: 22.31\n",
      "Iter 8 done. Time: 22.59\n",
      "Iter 9 done. Time: 22.69\n",
      "Iter 10 done. Time: 22.79\n",
      "Iter 11 done. Time: 22.95\n",
      "Iter 12 done. Time: 23.09\n",
      "Iter 13 done. Time: 23.16\n",
      "Iter 14 done. Time: 23.29\n",
      "Iter 15 done. Time: 23.43\n",
      "Iter 16 done. Time: 23.65\n",
      "Iter 17 done. Time: 24.26\n",
      "Iter 18 done. Time: 24.49\n",
      "Iter 19 done. Time: 24.51\n",
      "Iter 1 done. Time: 27.27\n",
      "Iter 2 done. Time: 27.74\n",
      "Iter 3 done. Time: 27.51\n",
      "Iter 4 done. Time: 27.76\n",
      "Iter 5 done. Time: 28.25\n",
      "Iter 6 done. Time: 28.35\n",
      "Iter 7 done. Time: 28.86\n",
      "Iter 8 done. Time: 29.03\n",
      "Iter 9 done. Time: 29.61\n",
      "Iter 10 done. Time: 29.66\n",
      "Iter 11 done. Time: 30.58\n",
      "Iter 12 done. Time: 30.36\n",
      "Iter 13 done. Time: 30.56\n",
      "Iter 14 done. Time: 30.90\n",
      "Iter 15 done. Time: 31.34\n",
      "Iter 16 done. Time: 31.31\n",
      "Iter 17 done. Time: 30.94\n",
      "Iter 18 done. Time: 30.92\n",
      "Iter 19 done. Time: 31.10\n",
      "Iter 1 done. Time: 21.30\n",
      "Iter 2 done. Time: 21.41\n",
      "Iter 3 done. Time: 21.54\n",
      "Iter 4 done. Time: 21.74\n",
      "Iter 5 done. Time: 22.05\n",
      "Iter 6 done. Time: 22.32\n",
      "Iter 7 done. Time: 22.54\n",
      "Iter 8 done. Time: 22.44\n",
      "Iter 9 done. Time: 22.50\n",
      "Iter 10 done. Time: 22.68\n",
      "Iter 11 done. Time: 23.04\n",
      "Iter 12 done. Time: 23.04\n",
      "Iter 13 done. Time: 22.99\n",
      "Iter 14 done. Time: 23.55\n",
      "Iter 15 done. Time: 23.70\n",
      "Iter 16 done. Time: 23.82\n",
      "Iter 17 done. Time: 24.40\n",
      "Iter 18 done. Time: 24.33\n",
      "Iter 19 done. Time: 24.51\n",
      "Iter 1 done. Time: 23.64\n",
      "Iter 2 done. Time: 23.79\n",
      "Iter 3 done. Time: 24.23\n",
      "Iter 4 done. Time: 24.29\n",
      "Iter 5 done. Time: 24.48\n",
      "Iter 6 done. Time: 24.52\n",
      "Iter 7 done. Time: 24.65\n",
      "Iter 8 done. Time: 25.13\n",
      "Iter 9 done. Time: 25.01\n",
      "Iter 10 done. Time: 25.06\n",
      "Iter 11 done. Time: 25.15\n",
      "Iter 12 done. Time: 25.53\n",
      "Iter 13 done. Time: 25.83\n",
      "Iter 14 done. Time: 26.24\n",
      "Iter 15 done. Time: 26.52\n",
      "Iter 16 done. Time: 26.87\n",
      "Iter 17 done. Time: 26.67\n",
      "Iter 18 done. Time: 26.85\n",
      "Iter 19 done. Time: 26.99\n",
      "Iter 1 done. Time: 22.47\n",
      "Iter 2 done. Time: 22.95\n",
      "Iter 3 done. Time: 23.03\n",
      "Iter 4 done. Time: 23.10\n",
      "Iter 5 done. Time: 22.99\n",
      "Iter 6 done. Time: 23.09\n",
      "Iter 7 done. Time: 23.27\n",
      "Iter 8 done. Time: 23.38\n",
      "Iter 9 done. Time: 23.71\n",
      "Iter 10 done. Time: 23.76\n",
      "Iter 11 done. Time: 24.15\n",
      "Iter 12 done. Time: 24.21\n",
      "Iter 13 done. Time: 24.29\n",
      "Iter 14 done. Time: 25.00\n",
      "Iter 15 done. Time: 25.21\n",
      "Iter 16 done. Time: 25.36\n",
      "Iter 17 done. Time: 25.41\n",
      "Iter 18 done. Time: 25.47\n",
      "Iter 19 done. Time: 25.59\n",
      "Iter 1 done. Time: 21.53\n",
      "Iter 2 done. Time: 21.56\n",
      "Iter 3 done. Time: 21.75\n",
      "Iter 4 done. Time: 21.86\n",
      "Iter 5 done. Time: 22.02\n",
      "Iter 6 done. Time: 22.20\n",
      "Iter 7 done. Time: 22.66\n",
      "Iter 8 done. Time: 22.58\n",
      "Iter 9 done. Time: 22.60\n",
      "Iter 10 done. Time: 22.74\n",
      "Iter 11 done. Time: 22.91\n",
      "Iter 12 done. Time: 22.88\n",
      "Iter 13 done. Time: 23.17\n",
      "Iter 14 done. Time: 23.23\n",
      "Iter 15 done. Time: 23.19\n",
      "Iter 16 done. Time: 23.33\n",
      "Iter 17 done. Time: 23.50\n",
      "Iter 18 done. Time: 23.61\n",
      "Iter 19 done. Time: 23.74\n",
      "Iter 1 done. Time: 22.18\n",
      "Iter 2 done. Time: 22.34\n",
      "Iter 3 done. Time: 22.63\n",
      "Iter 4 done. Time: 22.78\n",
      "Iter 5 done. Time: 22.94\n",
      "Iter 6 done. Time: 23.09\n",
      "Iter 7 done. Time: 23.84\n",
      "Iter 8 done. Time: 23.49\n",
      "Iter 9 done. Time: 23.78\n",
      "Iter 10 done. Time: 23.73\n",
      "Iter 11 done. Time: 24.05\n",
      "Iter 12 done. Time: 24.22\n",
      "Iter 13 done. Time: 24.30\n",
      "Iter 14 done. Time: 24.89\n",
      "Iter 15 done. Time: 24.96\n",
      "Iter 16 done. Time: 24.97\n",
      "Iter 17 done. Time: 25.18\n",
      "Iter 18 done. Time: 25.30\n",
      "Iter 19 done. Time: 25.48\n",
      "Iter 1 done. Time: 21.30\n",
      "Iter 2 done. Time: 21.41\n",
      "Iter 3 done. Time: 21.50\n",
      "Iter 4 done. Time: 21.65\n",
      "Iter 5 done. Time: 21.78\n",
      "Iter 6 done. Time: 22.02\n",
      "Iter 7 done. Time: 22.11\n",
      "Iter 8 done. Time: 22.35\n",
      "Iter 9 done. Time: 22.45\n",
      "Iter 10 done. Time: 22.57\n",
      "Iter 11 done. Time: 22.72\n",
      "Iter 12 done. Time: 22.80\n",
      "Iter 13 done. Time: 22.92\n",
      "Iter 14 done. Time: 23.45\n",
      "Iter 15 done. Time: 23.61\n",
      "Iter 16 done. Time: 23.83\n",
      "Iter 17 done. Time: 23.95\n",
      "Iter 18 done. Time: 24.06\n",
      "Iter 19 done. Time: 24.14\n",
      "Iter 1 done. Time: 22.05\n",
      "Iter 2 done. Time: 22.18\n",
      "Iter 3 done. Time: 22.36\n",
      "Iter 4 done. Time: 22.48\n",
      "Iter 5 done. Time: 22.64\n",
      "Iter 6 done. Time: 22.77\n",
      "Iter 7 done. Time: 22.92\n",
      "Iter 8 done. Time: 23.08\n",
      "Iter 9 done. Time: 23.26\n",
      "Iter 10 done. Time: 23.43\n",
      "Iter 11 done. Time: 23.55\n",
      "Iter 12 done. Time: 23.71\n",
      "Iter 13 done. Time: 23.87\n",
      "Iter 14 done. Time: 24.36\n",
      "Iter 15 done. Time: 24.57\n",
      "Iter 16 done. Time: 24.73\n",
      "Iter 17 done. Time: 24.87\n",
      "Iter 18 done. Time: 25.09\n",
      "Iter 19 done. Time: 25.13\n"
     ]
    }
   ],
   "source": [
    "predictions = []\n",
    "errors = []\n",
    "for train, test_splitted in zip(train_list, test_splitted_list):\n",
    "    train_features = np.array(train['lag1'])\n",
    "    train_labels = np.array(train['carbon_per_MWh'])\n",
    "    for i,test in enumerate(test_splitted):\n",
    "        start = time.time()\n",
    "        test_features = np.array(test['lag1'])\n",
    "        test_labels = np.array(test['carbon_per_MWh'])\n",
    "        rf.fit(train_features.reshape(-1,1), train_labels)\n",
    "        prediction = rf.predict(test_features.reshape(-1,1))\n",
    "        predictions.append(prediction)\n",
    "        errors.append(abs(prediction - test_labels))\n",
    "        train_features = np.hstack((train_features, test_features))\n",
    "        train_labels = np.hstack((train_labels, test_labels))\n",
    "        end = time.time()\n",
    "        print(f\"Iter {i+1} done. Time: {(end-start):.2f}\")"
   ]
  },
  {
   "cell_type": "code",
   "execution_count": 23,
   "id": "2a4a2419",
   "metadata": {},
   "outputs": [],
   "source": [
    "merged_predictions = []\n",
    "for i in predictions:\n",
    "    merged_predictions.extend(i)"
   ]
  },
  {
   "cell_type": "code",
   "execution_count": 14,
   "id": "6d26b92e",
   "metadata": {},
   "outputs": [],
   "source": [
    "merged_errors = []\n",
    "for i in range(0, len(errors), NUMBER_OF_TEST_LISTS_PER_STATE):\n",
    "    temp_list = []\n",
    "    for j in range(i, i+NUMBER_OF_TEST_LISTS_PER_STATE):\n",
    "        temp_list.extend(errors[j])\n",
    "    merged_errors.append(temp_list)"
   ]
  },
  {
   "cell_type": "code",
   "execution_count": 16,
   "id": "7deb708f",
   "metadata": {},
   "outputs": [
    {
     "name": "stdout",
     "output_type": "stream",
     "text": [
      "MAE for Texas = 74.95053683619057\n",
      "MAE for Carolinas = 29.443458842858153\n",
      "MAE for Florida = 14.242611352763054\n",
      "MAE for Southeast = 19.16515196801303\n",
      "MAE for Tennessee = 24.31906805103428\n",
      "MAE for Central = 115.90555858473996\n",
      "MAE for Southwest = 23.37430582183374\n",
      "MAE for Midwest = 46.63086206737909\n",
      "MAE for New-York = 22.521880841554108\n",
      "MAE for Mid-Atlantic = 22.882190717980144\n",
      "MAE for New-England = 32.88619437885369\n",
      "MAE for California = 29.34034859833492\n",
      "MAE for Northwest = 32.640808458855695\n"
     ]
    }
   ],
   "source": [
    "for state, error in zip(state_list, merged_errors):\n",
    "    print(f\"MAE for {state} = {np.mean(error)}\")"
   ]
  },
  {
   "cell_type": "code",
   "execution_count": 17,
   "id": "8064ffd0",
   "metadata": {},
   "outputs": [
    {
     "data": {
      "text/plain": [
       "247"
      ]
     },
     "execution_count": 17,
     "metadata": {},
     "output_type": "execute_result"
    }
   ],
   "source": [
    "len(predictions)"
   ]
  },
  {
   "cell_type": "code",
   "execution_count": 18,
   "id": "398dbc23",
   "metadata": {},
   "outputs": [],
   "source": [
    "merged_predictions = []\n",
    "for i in range(0,len(predictions),NUMBER_OF_TEST_LISTS_PER_STATE):\n",
    "    temp_list = []\n",
    "    for j in range(i, i+NUMBER_OF_TEST_LISTS_PER_STATE):\n",
    "        temp_list.extend(predictions[j])\n",
    "    merged_predictions.append(temp_list)"
   ]
  },
  {
   "cell_type": "code",
   "execution_count": 77,
   "id": "4d74a7c0",
   "metadata": {},
   "outputs": [
    {
     "data": {
      "text/plain": [
       "3149"
      ]
     },
     "execution_count": 77,
     "metadata": {},
     "output_type": "execute_result"
    }
   ],
   "source": [
    "len(merged_predictions[0])"
   ]
  },
  {
   "cell_type": "code",
   "execution_count": 78,
   "id": "eac163c0",
   "metadata": {},
   "outputs": [
    {
     "data": {
      "text/plain": [
       "[<matplotlib.lines.Line2D at 0x284cccc40>]"
      ]
     },
     "execution_count": 78,
     "metadata": {},
     "output_type": "execute_result"
    },
    {
     "data": {
      "image/png": "[encoded data removed]",
      "text/plain": [
       "<Figure size 1152x1152 with 1 Axes>"
      ]
     },
     "metadata": {
      "needs_background": "light"
     },
     "output_type": "display_data"
    }
   ],
   "source": [
    "plt.figure(figsize=(16,16))\n",
    "plt.plot(train_list[0].index, train_list[0]['carbon_per_MWh'], color='black')\n",
    "plt.plot(test_list[0].index, test_list[0]['carbon_per_MWh'], color='red')\n",
    "plt.plot(test_list[0].index, merged_predictions[0], color='blue')"
   ]
  },
  {
   "cell_type": "code",
   "execution_count": 79,
   "id": "39393511",
   "metadata": {},
   "outputs": [],
   "source": [
    "hour_dict_list = []\n",
    "for i in range(len(test_list)):\n",
    "    hour_dict = {test_list[i].index[j] : predictions[i][j] for j in range(len(predictions[i]))}\n",
    "    hour_dict_list.append(hour_dict)"
   ]
  },
  {
   "cell_type": "code",
   "execution_count": 81,
   "id": "a384bd14",
   "metadata": {},
   "outputs": [],
   "source": [
    "file = open(f'{pwd}/data/predictions/rfpred_retrain.pkl', 'wb')\n",
    "pickle.dump(hour_dict_list, file)\n",
    "file.close()"
   ]
  },
  {
   "cell_type": "code",
   "execution_count": null,
   "id": "c2da2f1f",
   "metadata": {},
   "outputs": [],
   "source": []
  }
 ],
 "metadata": {
  "kernelspec": {
   "display_name": "Python 3 (ipykernel)",
   "language": "python",
   "name": "python3"
  },
  "language_info": {
   "codemirror_mode": {
    "name": "ipython",
    "version": 3
   },
   "file_extension": ".py",
   "mimetype": "text/x-python",
   "name": "python",
   "nbconvert_exporter": "python",
   "pygments_lexer": "ipython3",
   "version": "3.8.12"
  }
 },
 "nbformat": 4,
 "nbformat_minor": 5
}
