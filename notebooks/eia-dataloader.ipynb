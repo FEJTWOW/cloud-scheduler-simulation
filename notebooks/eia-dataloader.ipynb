{
 "cells": [
  {
   "cell_type": "code",
   "execution_count": 3,
   "metadata": {},
   "outputs": [],
   "source": [
    "import requests\n",
    "import pandas as pd\n",
    "\n",
    "from tqdm import tqdm\n",
    "from pathlib import Path\n",
    "\n",
    "\n",
    "# Remove the limit to display the number of cols\n",
    "pd.options.display.max_columns = None\n",
    "\n",
    "# Only show 5 numbers after the decimal & gets rid of scientific notation\n",
    "pd.options.display.precision = 5"
   ]
  },
  {
   "cell_type": "code",
   "execution_count": 4,
   "metadata": {},
   "outputs": [],
   "source": [
    "API_KEY = \"zWAtdFQxeCdADBYwbIvHiVRrUwo8rOTOc4PBzJzF\"\n",
    "DATA_DIR = Path(\"../data/USA\")"
   ]
  },
  {
   "cell_type": "code",
   "execution_count": 5,
   "metadata": {},
   "outputs": [],
   "source": [
    "# categories IDs\n",
    "categories_url = f\"https://api.eia.gov/category/?api_key={API_KEY}&category_id=3390101\"\n",
    "child_categories = requests.get(url=categories_url).json()[\"category\"][\"childcategories\"]"
   ]
  },
  {
   "cell_type": "code",
   "execution_count": 6,
   "metadata": {},
   "outputs": [
    {
     "data": {
      "text/html": [
       "<div>\n",
       "<style scoped>\n",
       "    .dataframe tbody tr th:only-of-type {\n",
       "        vertical-align: middle;\n",
       "    }\n",
       "\n",
       "    .dataframe tbody tr th {\n",
       "        vertical-align: top;\n",
       "    }\n",
       "\n",
       "    .dataframe thead th {\n",
       "        text-align: right;\n",
       "    }\n",
       "</style>\n",
       "<table border=\"1\" class=\"dataframe\">\n",
       "  <thead>\n",
       "    <tr style=\"text-align: right;\">\n",
       "      <th></th>\n",
       "      <th>category_id</th>\n",
       "      <th>name</th>\n",
       "    </tr>\n",
       "  </thead>\n",
       "  <tbody>\n",
       "    <tr>\n",
       "      <th>1</th>\n",
       "      <td>3390106</td>\n",
       "      <td>California (CAL)</td>\n",
       "    </tr>\n",
       "    <tr>\n",
       "      <th>2</th>\n",
       "      <td>3390107</td>\n",
       "      <td>Carolinas (CAR)</td>\n",
       "    </tr>\n",
       "    <tr>\n",
       "      <th>3</th>\n",
       "      <td>3390108</td>\n",
       "      <td>Central (CENT)</td>\n",
       "    </tr>\n",
       "    <tr>\n",
       "      <th>4</th>\n",
       "      <td>3390109</td>\n",
       "      <td>Florida (FLA)</td>\n",
       "    </tr>\n",
       "    <tr>\n",
       "      <th>5</th>\n",
       "      <td>3390110</td>\n",
       "      <td>Mid-Atlantic (MIDA)</td>\n",
       "    </tr>\n",
       "    <tr>\n",
       "      <th>6</th>\n",
       "      <td>3390111</td>\n",
       "      <td>Midwest (MIDW)</td>\n",
       "    </tr>\n",
       "    <tr>\n",
       "      <th>7</th>\n",
       "      <td>3390112</td>\n",
       "      <td>New England (NE)</td>\n",
       "    </tr>\n",
       "    <tr>\n",
       "      <th>8</th>\n",
       "      <td>3390113</td>\n",
       "      <td>New York (NY)</td>\n",
       "    </tr>\n",
       "    <tr>\n",
       "      <th>9</th>\n",
       "      <td>3390114</td>\n",
       "      <td>Northwest (NW)</td>\n",
       "    </tr>\n",
       "    <tr>\n",
       "      <th>10</th>\n",
       "      <td>3390115</td>\n",
       "      <td>Southeast (SE)</td>\n",
       "    </tr>\n",
       "    <tr>\n",
       "      <th>11</th>\n",
       "      <td>3390116</td>\n",
       "      <td>Southwest (SW)</td>\n",
       "    </tr>\n",
       "    <tr>\n",
       "      <th>12</th>\n",
       "      <td>3390117</td>\n",
       "      <td>Tennessee (TEN)</td>\n",
       "    </tr>\n",
       "    <tr>\n",
       "      <th>13</th>\n",
       "      <td>3390118</td>\n",
       "      <td>Texas (TEX)</td>\n",
       "    </tr>\n",
       "  </tbody>\n",
       "</table>\n",
       "</div>"
      ],
      "text/plain": [
       "    category_id                 name\n",
       "1       3390106     California (CAL)\n",
       "2       3390107      Carolinas (CAR)\n",
       "3       3390108       Central (CENT)\n",
       "4       3390109        Florida (FLA)\n",
       "5       3390110  Mid-Atlantic (MIDA)\n",
       "6       3390111       Midwest (MIDW)\n",
       "7       3390112     New England (NE)\n",
       "8       3390113        New York (NY)\n",
       "9       3390114       Northwest (NW)\n",
       "10      3390115       Southeast (SE)\n",
       "11      3390116       Southwest (SW)\n",
       "12      3390117      Tennessee (TEN)\n",
       "13      3390118          Texas (TEX)"
      ]
     },
     "execution_count": 6,
     "metadata": {},
     "output_type": "execute_result"
    }
   ],
   "source": [
    "# 13 USA disjoint sectors\n",
    "sectors_categories_df = pd.DataFrame.from_dict(child_categories)\n",
    "sectors = sectors_categories_df[1:14]\n",
    "sectors"
   ]
  },
  {
   "cell_type": "code",
   "execution_count": 7,
   "metadata": {},
   "outputs": [
    {
     "name": "stderr",
     "output_type": "stream",
     "text": [
      "Loading data: 100%|██████████| 13/13 [02:07<00:00,  9.80s/it]\n"
     ]
    }
   ],
   "source": [
    "for i, (category_id, sector_name) in tqdm(sectors.iterrows(), desc=\"Loading data\", total=sectors.shape[0]):\n",
    "    \n",
    "    sector_name = sector_name.split(\"(\")[0].strip().replace(\" \", \"-\")\n",
    "    \n",
    "    sector_url = f\"https://api.eia.gov/category/?api_key={API_KEY}&category_id={category_id}\"\n",
    "    sector_series = pd.DataFrame.from_dict(requests.get(sector_url).json()[\"category\"][\"childseries\"])\n",
    "    sector_sources = sector_series.loc[sector_series.f==\"H\"]\n",
    "    \n",
    "    dfs = []\n",
    "    for i, row in sector_sources.iterrows():\n",
    "        series_id = row.series_id\n",
    "        col_name = series_id.split(\".\")[3]\n",
    "        url = f\"https://api.eia.gov/series/?api_key={API_KEY}&series_id={series_id}\"\n",
    "        response = requests.get(url).json()\n",
    "        data = pd.DataFrame.from_records(response[\"series\"][0][\"data\"], columns=[\"date\", col_name])\n",
    "        data.date = pd.to_datetime(data.date)\n",
    "        dfs.append(data)\n",
    "        \n",
    "    df = pd.concat(dfs, axis=1, join='inner')\n",
    "    df.index = df.pop(\"date\").iloc[:,0]\n",
    "    df.sort_index(inplace=True)\n",
    "    \n",
    "    df.to_csv(DATA_DIR / f\"{sector_name}.csv\", index_label=\"datetime\")"
   ]
  },
  {
   "cell_type": "code",
   "execution_count": null,
   "metadata": {},
   "outputs": [],
   "source": []
  }
 ],
 "metadata": {
  "interpreter": {
   "hash": "8b372ac5b8d84d048c043c6ca139a9654477ecccce32474b3f3b10c066386dd2"
  },
  "kernelspec": {
   "display_name": "Python 3.10.1 ('ds')",
   "language": "python",
   "name": "python3"
  },
  "language_info": {
   "codemirror_mode": {
    "name": "ipython",
    "version": 3
   },
   "file_extension": ".py",
   "mimetype": "text/x-python",
   "name": "python",
   "nbconvert_exporter": "python",
   "pygments_lexer": "ipython3",
   "version": "3.10.1"
  },
  "orig_nbformat": 4
 },
 "nbformat": 4,
 "nbformat_minor": 2
}
