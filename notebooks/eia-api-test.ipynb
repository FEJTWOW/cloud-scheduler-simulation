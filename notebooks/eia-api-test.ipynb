{
 "cells": [
  {
   "cell_type": "code",
   "execution_count": 57,
   "metadata": {},
   "outputs": [],
   "source": [
    "import requests\n",
    "import pandas as pd\n",
    "\n",
    "# Remove the limit to display the number of cols\n",
    "pd.options.display.max_columns = None\n",
    "\n",
    "# Only show 5 numbers after the decimal & gets rid of scientific notation\n",
    "pd.options.display.precision = 5"
   ]
  },
  {
   "cell_type": "code",
   "execution_count": 6,
   "metadata": {},
   "outputs": [],
   "source": [
    "API_KEY = \"zWAtdFQxeCdADBYwbIvHiVRrUwo8rOTOc4PBzJzF\""
   ]
  },
  {
   "cell_type": "code",
   "execution_count": 12,
   "metadata": {},
   "outputs": [],
   "source": [
    "# categories IDs\n",
    "categories_url = f\"https://api.eia.gov/category/?api_key={API_KEY}&category_id=3390101\"\n",
    "child_categories = requests.get(url=categories_url).json()[\"category\"][\"childcategories\"]"
   ]
  },
  {
   "cell_type": "code",
   "execution_count": 16,
   "metadata": {},
   "outputs": [
    {
     "data": {
      "text/html": [
       "<div>\n",
       "<style scoped>\n",
       "    .dataframe tbody tr th:only-of-type {\n",
       "        vertical-align: middle;\n",
       "    }\n",
       "\n",
       "    .dataframe tbody tr th {\n",
       "        vertical-align: top;\n",
       "    }\n",
       "\n",
       "    .dataframe thead th {\n",
       "        text-align: right;\n",
       "    }\n",
       "</style>\n",
       "<table border=\"1\" class=\"dataframe\">\n",
       "  <thead>\n",
       "    <tr style=\"text-align: right;\">\n",
       "      <th></th>\n",
       "      <th>category_id</th>\n",
       "      <th>name</th>\n",
       "    </tr>\n",
       "  </thead>\n",
       "  <tbody>\n",
       "    <tr>\n",
       "      <th>0</th>\n",
       "      <td>3390105</td>\n",
       "      <td>United States Lower 48 (US48)</td>\n",
       "    </tr>\n",
       "    <tr>\n",
       "      <th>1</th>\n",
       "      <td>3390106</td>\n",
       "      <td>California (CAL)</td>\n",
       "    </tr>\n",
       "    <tr>\n",
       "      <th>2</th>\n",
       "      <td>3390107</td>\n",
       "      <td>Carolinas (CAR)</td>\n",
       "    </tr>\n",
       "    <tr>\n",
       "      <th>3</th>\n",
       "      <td>3390108</td>\n",
       "      <td>Central (CENT)</td>\n",
       "    </tr>\n",
       "    <tr>\n",
       "      <th>4</th>\n",
       "      <td>3390109</td>\n",
       "      <td>Florida (FLA)</td>\n",
       "    </tr>\n",
       "  </tbody>\n",
       "</table>\n",
       "</div>"
      ],
      "text/plain": [
       "   category_id                           name\n",
       "0      3390105  United States Lower 48 (US48)\n",
       "1      3390106               California (CAL)\n",
       "2      3390107                Carolinas (CAR)\n",
       "3      3390108                 Central (CENT)\n",
       "4      3390109                  Florida (FLA)"
      ]
     },
     "execution_count": 16,
     "metadata": {},
     "output_type": "execute_result"
    }
   ],
   "source": [
    "# sectors - states\n",
    "sectors_categories_df = pd.DataFrame.from_dict(child_categories)\n",
    "sectors_categories_df.head()"
   ]
  },
  {
   "cell_type": "code",
   "execution_count": 72,
   "metadata": {},
   "outputs": [],
   "source": [
    "# Florida sector\n",
    "id_florida = sectors_categories_df.loc[sectors_categories_df.name==\"Florida (FLA)\", \"category_id\"].item()\n",
    "url_florida = f\"https://api.eia.gov/category/?api_key={API_KEY}&category_id={id_florida}\""
   ]
  },
  {
   "cell_type": "code",
   "execution_count": 73,
   "metadata": {},
   "outputs": [
    {
     "data": {
      "text/html": [
       "<div>\n",
       "<style scoped>\n",
       "    .dataframe tbody tr th:only-of-type {\n",
       "        vertical-align: middle;\n",
       "    }\n",
       "\n",
       "    .dataframe tbody tr th {\n",
       "        vertical-align: top;\n",
       "    }\n",
       "\n",
       "    .dataframe thead th {\n",
       "        text-align: right;\n",
       "    }\n",
       "</style>\n",
       "<table border=\"1\" class=\"dataframe\">\n",
       "  <thead>\n",
       "    <tr style=\"text-align: right;\">\n",
       "      <th></th>\n",
       "      <th>series_id</th>\n",
       "      <th>name</th>\n",
       "      <th>f</th>\n",
       "      <th>units</th>\n",
       "      <th>updated</th>\n",
       "    </tr>\n",
       "  </thead>\n",
       "  <tbody>\n",
       "    <tr>\n",
       "      <th>0</th>\n",
       "      <td>EBA.FLA-ALL.NG.COL.H</td>\n",
       "      <td>Net generation from coal for Florida (region),...</td>\n",
       "      <td>H</td>\n",
       "      <td>megawatthours</td>\n",
       "      <td>09-MAY-22 09.35.01 AM</td>\n",
       "    </tr>\n",
       "    <tr>\n",
       "      <th>1</th>\n",
       "      <td>EBA.FLA-ALL.NG.COL.HL</td>\n",
       "      <td>Net generation from coal for Florida (region),...</td>\n",
       "      <td>HL</td>\n",
       "      <td>megawatthours</td>\n",
       "      <td>09-MAY-22 09.35.01 AM</td>\n",
       "    </tr>\n",
       "    <tr>\n",
       "      <th>2</th>\n",
       "      <td>EBA.FLA-ALL.NG.NG.H</td>\n",
       "      <td>Net generation from natural gas for Florida (r...</td>\n",
       "      <td>H</td>\n",
       "      <td>megawatthours</td>\n",
       "      <td>09-MAY-22 09.35.02 AM</td>\n",
       "    </tr>\n",
       "    <tr>\n",
       "      <th>3</th>\n",
       "      <td>EBA.FLA-ALL.NG.NG.HL</td>\n",
       "      <td>Net generation from natural gas for Florida (r...</td>\n",
       "      <td>HL</td>\n",
       "      <td>megawatthours</td>\n",
       "      <td>09-MAY-22 09.35.02 AM</td>\n",
       "    </tr>\n",
       "    <tr>\n",
       "      <th>4</th>\n",
       "      <td>EBA.FLA-ALL.NG.NUC.H</td>\n",
       "      <td>Net generation from nuclear for Florida (regio...</td>\n",
       "      <td>H</td>\n",
       "      <td>megawatthours</td>\n",
       "      <td>09-MAY-22 09.35.01 AM</td>\n",
       "    </tr>\n",
       "    <tr>\n",
       "      <th>5</th>\n",
       "      <td>EBA.FLA-ALL.NG.NUC.HL</td>\n",
       "      <td>Net generation from nuclear for Florida (regio...</td>\n",
       "      <td>HL</td>\n",
       "      <td>megawatthours</td>\n",
       "      <td>09-MAY-22 09.35.01 AM</td>\n",
       "    </tr>\n",
       "    <tr>\n",
       "      <th>6</th>\n",
       "      <td>EBA.FLA-ALL.NG.OIL.H</td>\n",
       "      <td>Net generation from petroleum for Florida (reg...</td>\n",
       "      <td>H</td>\n",
       "      <td>megawatthours</td>\n",
       "      <td>09-MAY-22 09.35.01 AM</td>\n",
       "    </tr>\n",
       "    <tr>\n",
       "      <th>7</th>\n",
       "      <td>EBA.FLA-ALL.NG.OIL.HL</td>\n",
       "      <td>Net generation from petroleum for Florida (reg...</td>\n",
       "      <td>HL</td>\n",
       "      <td>megawatthours</td>\n",
       "      <td>09-MAY-22 09.35.01 AM</td>\n",
       "    </tr>\n",
       "    <tr>\n",
       "      <th>8</th>\n",
       "      <td>EBA.FLA-ALL.NG.OTH.H</td>\n",
       "      <td>Net generation from other for Florida (region)...</td>\n",
       "      <td>H</td>\n",
       "      <td>megawatthours</td>\n",
       "      <td>09-MAY-22 09.35.01 AM</td>\n",
       "    </tr>\n",
       "    <tr>\n",
       "      <th>9</th>\n",
       "      <td>EBA.FLA-ALL.NG.OTH.HL</td>\n",
       "      <td>Net generation from other for Florida (region)...</td>\n",
       "      <td>HL</td>\n",
       "      <td>megawatthours</td>\n",
       "      <td>09-MAY-22 09.35.01 AM</td>\n",
       "    </tr>\n",
       "    <tr>\n",
       "      <th>10</th>\n",
       "      <td>EBA.FLA-ALL.NG.SUN.H</td>\n",
       "      <td>Net generation from solar for Florida (region)...</td>\n",
       "      <td>H</td>\n",
       "      <td>megawatthours</td>\n",
       "      <td>09-MAY-22 09.35.01 AM</td>\n",
       "    </tr>\n",
       "    <tr>\n",
       "      <th>11</th>\n",
       "      <td>EBA.FLA-ALL.NG.SUN.HL</td>\n",
       "      <td>Net generation from solar for Florida (region)...</td>\n",
       "      <td>HL</td>\n",
       "      <td>megawatthours</td>\n",
       "      <td>09-MAY-22 09.35.01 AM</td>\n",
       "    </tr>\n",
       "    <tr>\n",
       "      <th>12</th>\n",
       "      <td>EBA.FLA-ALL.NG.WAT.H</td>\n",
       "      <td>Net generation from hydro for Florida (region)...</td>\n",
       "      <td>H</td>\n",
       "      <td>megawatthours</td>\n",
       "      <td>09-MAY-22 09.35.01 AM</td>\n",
       "    </tr>\n",
       "    <tr>\n",
       "      <th>13</th>\n",
       "      <td>EBA.FLA-ALL.NG.WAT.HL</td>\n",
       "      <td>Net generation from hydro for Florida (region)...</td>\n",
       "      <td>HL</td>\n",
       "      <td>megawatthours</td>\n",
       "      <td>09-MAY-22 09.35.01 AM</td>\n",
       "    </tr>\n",
       "  </tbody>\n",
       "</table>\n",
       "</div>"
      ],
      "text/plain": [
       "                series_id                                               name  \\\n",
       "0    EBA.FLA-ALL.NG.COL.H  Net generation from coal for Florida (region),...   \n",
       "1   EBA.FLA-ALL.NG.COL.HL  Net generation from coal for Florida (region),...   \n",
       "2     EBA.FLA-ALL.NG.NG.H  Net generation from natural gas for Florida (r...   \n",
       "3    EBA.FLA-ALL.NG.NG.HL  Net generation from natural gas for Florida (r...   \n",
       "4    EBA.FLA-ALL.NG.NUC.H  Net generation from nuclear for Florida (regio...   \n",
       "5   EBA.FLA-ALL.NG.NUC.HL  Net generation from nuclear for Florida (regio...   \n",
       "6    EBA.FLA-ALL.NG.OIL.H  Net generation from petroleum for Florida (reg...   \n",
       "7   EBA.FLA-ALL.NG.OIL.HL  Net generation from petroleum for Florida (reg...   \n",
       "8    EBA.FLA-ALL.NG.OTH.H  Net generation from other for Florida (region)...   \n",
       "9   EBA.FLA-ALL.NG.OTH.HL  Net generation from other for Florida (region)...   \n",
       "10   EBA.FLA-ALL.NG.SUN.H  Net generation from solar for Florida (region)...   \n",
       "11  EBA.FLA-ALL.NG.SUN.HL  Net generation from solar for Florida (region)...   \n",
       "12   EBA.FLA-ALL.NG.WAT.H  Net generation from hydro for Florida (region)...   \n",
       "13  EBA.FLA-ALL.NG.WAT.HL  Net generation from hydro for Florida (region)...   \n",
       "\n",
       "     f          units                updated  \n",
       "0    H  megawatthours  09-MAY-22 09.35.01 AM  \n",
       "1   HL  megawatthours  09-MAY-22 09.35.01 AM  \n",
       "2    H  megawatthours  09-MAY-22 09.35.02 AM  \n",
       "3   HL  megawatthours  09-MAY-22 09.35.02 AM  \n",
       "4    H  megawatthours  09-MAY-22 09.35.01 AM  \n",
       "5   HL  megawatthours  09-MAY-22 09.35.01 AM  \n",
       "6    H  megawatthours  09-MAY-22 09.35.01 AM  \n",
       "7   HL  megawatthours  09-MAY-22 09.35.01 AM  \n",
       "8    H  megawatthours  09-MAY-22 09.35.01 AM  \n",
       "9   HL  megawatthours  09-MAY-22 09.35.01 AM  \n",
       "10   H  megawatthours  09-MAY-22 09.35.01 AM  \n",
       "11  HL  megawatthours  09-MAY-22 09.35.01 AM  \n",
       "12   H  megawatthours  09-MAY-22 09.35.01 AM  \n",
       "13  HL  megawatthours  09-MAY-22 09.35.01 AM  "
      ]
     },
     "execution_count": 73,
     "metadata": {},
     "output_type": "execute_result"
    }
   ],
   "source": [
    "# data series for Florida\n",
    "florida_series_df = pd.DataFrame.from_dict(requests.get(url_florida).json()[\"category\"][\"childseries\"])\n",
    "florida_series_df"
   ]
  },
  {
   "cell_type": "code",
   "execution_count": 84,
   "metadata": {},
   "outputs": [],
   "source": [
    "# Net generation from coal for Florida (region), hourly - UTC time\n",
    "# series ID: EBA.FLA-ALL.NG.COL.H\n",
    "id_coal_florida = \"EBA.FLA-ALL.NG.COL.H\"\n",
    "url_coal_florida = f\"https://api.eia.gov/series/?api_key={API_KEY}&series_id={id_coal_florida}\""
   ]
  },
  {
   "cell_type": "code",
   "execution_count": 89,
   "metadata": {},
   "outputs": [
    {
     "data": {
      "text/plain": [
       "{'command': 'series', 'series_id': 'EBA.FLA-ALL.NG.COL.H'}"
      ]
     },
     "execution_count": 89,
     "metadata": {},
     "output_type": "execute_result"
    }
   ],
   "source": [
    "response = requests.get(url_coal_florida).json()\n",
    "response[\"request\"]"
   ]
  },
  {
   "cell_type": "code",
   "execution_count": 90,
   "metadata": {},
   "outputs": [
    {
     "data": {
      "text/plain": [
       "{'series_id': 'EBA.FLA-ALL.NG.COL.H',\n",
       " 'name': 'Net generation from coal for Florida (region), hourly - UTC time',\n",
       " 'units': 'megawatthours',\n",
       " 'f': 'H',\n",
       " 'description': 'Timestamps follow the ISO8601 standard (https://en.wikipedia.org/wiki/ISO_8601). Hourly representations are provided in Universal Time.',\n",
       " 'start': '20180701T05Z',\n",
       " 'end': '20220509T04Z',\n",
       " 'updated': '2022-05-09T09:35:01-0400',\n",
       " 'data': []}"
      ]
     },
     "execution_count": 90,
     "metadata": {},
     "output_type": "execute_result"
    }
   ],
   "source": [
    "to_show = response[\"series\"][0].copy()\n",
    "to_show[\"data\"] = []\n",
    "to_show"
   ]
  },
  {
   "cell_type": "code",
   "execution_count": 91,
   "metadata": {},
   "outputs": [
    {
     "data": {
      "text/html": [
       "<div>\n",
       "<style scoped>\n",
       "    .dataframe tbody tr th:only-of-type {\n",
       "        vertical-align: middle;\n",
       "    }\n",
       "\n",
       "    .dataframe tbody tr th {\n",
       "        vertical-align: top;\n",
       "    }\n",
       "\n",
       "    .dataframe thead th {\n",
       "        text-align: right;\n",
       "    }\n",
       "</style>\n",
       "<table border=\"1\" class=\"dataframe\">\n",
       "  <thead>\n",
       "    <tr style=\"text-align: right;\">\n",
       "      <th></th>\n",
       "      <th>date</th>\n",
       "      <th>value</th>\n",
       "    </tr>\n",
       "  </thead>\n",
       "  <tbody>\n",
       "    <tr>\n",
       "      <th>0</th>\n",
       "      <td>2022-05-09 04:00:00+00:00</td>\n",
       "      <td>2519</td>\n",
       "    </tr>\n",
       "    <tr>\n",
       "      <th>1</th>\n",
       "      <td>2022-05-09 03:00:00+00:00</td>\n",
       "      <td>2981</td>\n",
       "    </tr>\n",
       "    <tr>\n",
       "      <th>2</th>\n",
       "      <td>2022-05-09 02:00:00+00:00</td>\n",
       "      <td>3384</td>\n",
       "    </tr>\n",
       "    <tr>\n",
       "      <th>3</th>\n",
       "      <td>2022-05-09 01:00:00+00:00</td>\n",
       "      <td>3441</td>\n",
       "    </tr>\n",
       "    <tr>\n",
       "      <th>4</th>\n",
       "      <td>2022-05-09 00:00:00+00:00</td>\n",
       "      <td>3630</td>\n",
       "    </tr>\n",
       "    <tr>\n",
       "      <th>...</th>\n",
       "      <td>...</td>\n",
       "      <td>...</td>\n",
       "    </tr>\n",
       "    <tr>\n",
       "      <th>33787</th>\n",
       "      <td>2018-07-01 09:00:00+00:00</td>\n",
       "      <td>1994</td>\n",
       "    </tr>\n",
       "    <tr>\n",
       "      <th>33788</th>\n",
       "      <td>2018-07-01 08:00:00+00:00</td>\n",
       "      <td>1867</td>\n",
       "    </tr>\n",
       "    <tr>\n",
       "      <th>33789</th>\n",
       "      <td>2018-07-01 07:00:00+00:00</td>\n",
       "      <td>1960</td>\n",
       "    </tr>\n",
       "    <tr>\n",
       "      <th>33790</th>\n",
       "      <td>2018-07-01 06:00:00+00:00</td>\n",
       "      <td>2105</td>\n",
       "    </tr>\n",
       "    <tr>\n",
       "      <th>33791</th>\n",
       "      <td>2018-07-01 05:00:00+00:00</td>\n",
       "      <td>2265</td>\n",
       "    </tr>\n",
       "  </tbody>\n",
       "</table>\n",
       "<p>33792 rows × 2 columns</p>\n",
       "</div>"
      ],
      "text/plain": [
       "                           date  value\n",
       "0     2022-05-09 04:00:00+00:00   2519\n",
       "1     2022-05-09 03:00:00+00:00   2981\n",
       "2     2022-05-09 02:00:00+00:00   3384\n",
       "3     2022-05-09 01:00:00+00:00   3441\n",
       "4     2022-05-09 00:00:00+00:00   3630\n",
       "...                         ...    ...\n",
       "33787 2018-07-01 09:00:00+00:00   1994\n",
       "33788 2018-07-01 08:00:00+00:00   1867\n",
       "33789 2018-07-01 07:00:00+00:00   1960\n",
       "33790 2018-07-01 06:00:00+00:00   2105\n",
       "33791 2018-07-01 05:00:00+00:00   2265\n",
       "\n",
       "[33792 rows x 2 columns]"
      ]
     },
     "execution_count": 91,
     "metadata": {},
     "output_type": "execute_result"
    }
   ],
   "source": [
    "# dataframe\n",
    "data_coal = pd.DataFrame.from_records(response[\"series\"][0][\"data\"], columns=[\"date\", \"value\"])\n",
    "data_coal.date = pd.to_datetime(data_coal.date)\n",
    "data_coal"
   ]
  },
  {
   "cell_type": "code",
   "execution_count": 92,
   "metadata": {},
   "outputs": [
    {
     "data": {
      "text/plain": [
       "<AxesSubplot:xlabel='date'>"
      ]
     },
     "execution_count": 92,
     "metadata": {},
     "output_type": "execute_result"
    },
    {
     "data": {
      "image/png": "[encoded data removed]",
      "text/plain": [
       "<Figure size 1440x432 with 1 Axes>"
      ]
     },
     "metadata": {
      "needs_background": "light"
     },
     "output_type": "display_data"
    }
   ],
   "source": [
    "# plots\n",
    "\n",
    "to_plot = data_coal.copy()\n",
    "to_plot.set_index(\"date\", drop=True, inplace=True)\n",
    "\n",
    "to_plot.plot(figsize=(20,6))"
   ]
  },
  {
   "cell_type": "code",
   "execution_count": 93,
   "metadata": {},
   "outputs": [
    {
     "data": {
      "text/html": [
       "<div>\n",
       "<style scoped>\n",
       "    .dataframe tbody tr th:only-of-type {\n",
       "        vertical-align: middle;\n",
       "    }\n",
       "\n",
       "    .dataframe tbody tr th {\n",
       "        vertical-align: top;\n",
       "    }\n",
       "\n",
       "    .dataframe thead th {\n",
       "        text-align: right;\n",
       "    }\n",
       "</style>\n",
       "<table border=\"1\" class=\"dataframe\">\n",
       "  <thead>\n",
       "    <tr style=\"text-align: right;\">\n",
       "      <th></th>\n",
       "      <th>series_id</th>\n",
       "      <th>name</th>\n",
       "      <th>f</th>\n",
       "      <th>units</th>\n",
       "      <th>updated</th>\n",
       "    </tr>\n",
       "  </thead>\n",
       "  <tbody>\n",
       "    <tr>\n",
       "      <th>0</th>\n",
       "      <td>EBA.FLA-ALL.NG.COL.H</td>\n",
       "      <td>Net generation from coal for Florida (region),...</td>\n",
       "      <td>H</td>\n",
       "      <td>megawatthours</td>\n",
       "      <td>09-MAY-22 09.35.01 AM</td>\n",
       "    </tr>\n",
       "    <tr>\n",
       "      <th>2</th>\n",
       "      <td>EBA.FLA-ALL.NG.NG.H</td>\n",
       "      <td>Net generation from natural gas for Florida (r...</td>\n",
       "      <td>H</td>\n",
       "      <td>megawatthours</td>\n",
       "      <td>09-MAY-22 09.35.02 AM</td>\n",
       "    </tr>\n",
       "    <tr>\n",
       "      <th>4</th>\n",
       "      <td>EBA.FLA-ALL.NG.NUC.H</td>\n",
       "      <td>Net generation from nuclear for Florida (regio...</td>\n",
       "      <td>H</td>\n",
       "      <td>megawatthours</td>\n",
       "      <td>09-MAY-22 09.35.01 AM</td>\n",
       "    </tr>\n",
       "    <tr>\n",
       "      <th>6</th>\n",
       "      <td>EBA.FLA-ALL.NG.OIL.H</td>\n",
       "      <td>Net generation from petroleum for Florida (reg...</td>\n",
       "      <td>H</td>\n",
       "      <td>megawatthours</td>\n",
       "      <td>09-MAY-22 09.35.01 AM</td>\n",
       "    </tr>\n",
       "    <tr>\n",
       "      <th>8</th>\n",
       "      <td>EBA.FLA-ALL.NG.OTH.H</td>\n",
       "      <td>Net generation from other for Florida (region)...</td>\n",
       "      <td>H</td>\n",
       "      <td>megawatthours</td>\n",
       "      <td>09-MAY-22 09.35.01 AM</td>\n",
       "    </tr>\n",
       "    <tr>\n",
       "      <th>10</th>\n",
       "      <td>EBA.FLA-ALL.NG.SUN.H</td>\n",
       "      <td>Net generation from solar for Florida (region)...</td>\n",
       "      <td>H</td>\n",
       "      <td>megawatthours</td>\n",
       "      <td>09-MAY-22 09.35.01 AM</td>\n",
       "    </tr>\n",
       "    <tr>\n",
       "      <th>12</th>\n",
       "      <td>EBA.FLA-ALL.NG.WAT.H</td>\n",
       "      <td>Net generation from hydro for Florida (region)...</td>\n",
       "      <td>H</td>\n",
       "      <td>megawatthours</td>\n",
       "      <td>09-MAY-22 09.35.01 AM</td>\n",
       "    </tr>\n",
       "  </tbody>\n",
       "</table>\n",
       "</div>"
      ],
      "text/plain": [
       "               series_id                                               name  \\\n",
       "0   EBA.FLA-ALL.NG.COL.H  Net generation from coal for Florida (region),...   \n",
       "2    EBA.FLA-ALL.NG.NG.H  Net generation from natural gas for Florida (r...   \n",
       "4   EBA.FLA-ALL.NG.NUC.H  Net generation from nuclear for Florida (regio...   \n",
       "6   EBA.FLA-ALL.NG.OIL.H  Net generation from petroleum for Florida (reg...   \n",
       "8   EBA.FLA-ALL.NG.OTH.H  Net generation from other for Florida (region)...   \n",
       "10  EBA.FLA-ALL.NG.SUN.H  Net generation from solar for Florida (region)...   \n",
       "12  EBA.FLA-ALL.NG.WAT.H  Net generation from hydro for Florida (region)...   \n",
       "\n",
       "    f          units                updated  \n",
       "0   H  megawatthours  09-MAY-22 09.35.01 AM  \n",
       "2   H  megawatthours  09-MAY-22 09.35.02 AM  \n",
       "4   H  megawatthours  09-MAY-22 09.35.01 AM  \n",
       "6   H  megawatthours  09-MAY-22 09.35.01 AM  \n",
       "8   H  megawatthours  09-MAY-22 09.35.01 AM  \n",
       "10  H  megawatthours  09-MAY-22 09.35.01 AM  \n",
       "12  H  megawatthours  09-MAY-22 09.35.01 AM  "
      ]
     },
     "execution_count": 93,
     "metadata": {},
     "output_type": "execute_result"
    }
   ],
   "source": [
    "# one dataframe for all data sources for Florida\n",
    "sources_florida_utc = florida_series_df.loc[florida_series_df.f==\"H\"]\n",
    "sources_florida_utc"
   ]
  },
  {
   "cell_type": "code",
   "execution_count": 112,
   "metadata": {},
   "outputs": [],
   "source": [
    "dfs = []\n",
    "\n",
    "for i, row in sources_florida_utc.iterrows():\n",
    "    series_id = row.series_id\n",
    "    col_name = series_id.split(\".\")[3]\n",
    "    url = f\"https://api.eia.gov/series/?api_key={API_KEY}&series_id={series_id}\"\n",
    "    response = requests.get(url).json()\n",
    "    data = pd.DataFrame.from_records(response[\"series\"][0][\"data\"], columns=[\"date\", col_name])\n",
    "    data.date = pd.to_datetime(data.date)\n",
    "    dfs.append(data)"
   ]
  },
  {
   "cell_type": "code",
   "execution_count": 113,
   "metadata": {},
   "outputs": [],
   "source": [
    "df = pd.concat(dfs, axis=1, join='inner')"
   ]
  },
  {
   "cell_type": "code",
   "execution_count": 114,
   "metadata": {},
   "outputs": [],
   "source": [
    "df.index = df.pop(\"date\").iloc[:,0]"
   ]
  },
  {
   "cell_type": "code",
   "execution_count": 118,
   "metadata": {},
   "outputs": [],
   "source": [
    "df.sort_index(inplace=True)"
   ]
  },
  {
   "cell_type": "code",
   "execution_count": 120,
   "metadata": {},
   "outputs": [
    {
     "data": {
      "text/html": [
       "<div>\n",
       "<style scoped>\n",
       "    .dataframe tbody tr th:only-of-type {\n",
       "        vertical-align: middle;\n",
       "    }\n",
       "\n",
       "    .dataframe tbody tr th {\n",
       "        vertical-align: top;\n",
       "    }\n",
       "\n",
       "    .dataframe thead th {\n",
       "        text-align: right;\n",
       "    }\n",
       "</style>\n",
       "<table border=\"1\" class=\"dataframe\">\n",
       "  <thead>\n",
       "    <tr style=\"text-align: right;\">\n",
       "      <th></th>\n",
       "      <th>COL</th>\n",
       "      <th>NG</th>\n",
       "      <th>NUC</th>\n",
       "      <th>OIL</th>\n",
       "      <th>OTH</th>\n",
       "      <th>SUN</th>\n",
       "      <th>WAT</th>\n",
       "    </tr>\n",
       "    <tr>\n",
       "      <th>date</th>\n",
       "      <th></th>\n",
       "      <th></th>\n",
       "      <th></th>\n",
       "      <th></th>\n",
       "      <th></th>\n",
       "      <th></th>\n",
       "      <th></th>\n",
       "    </tr>\n",
       "  </thead>\n",
       "  <tbody>\n",
       "    <tr>\n",
       "      <th>2018-07-02 05:00:00+00:00</th>\n",
       "      <td>2749</td>\n",
       "      <td>18166</td>\n",
       "      <td>3778</td>\n",
       "      <td>0</td>\n",
       "      <td>1017</td>\n",
       "      <td>0</td>\n",
       "      <td>32</td>\n",
       "    </tr>\n",
       "    <tr>\n",
       "      <th>2018-07-02 06:00:00+00:00</th>\n",
       "      <td>2427</td>\n",
       "      <td>16553</td>\n",
       "      <td>3785</td>\n",
       "      <td>0</td>\n",
       "      <td>983</td>\n",
       "      <td>0</td>\n",
       "      <td>31</td>\n",
       "    </tr>\n",
       "    <tr>\n",
       "      <th>2018-07-02 07:00:00+00:00</th>\n",
       "      <td>2264</td>\n",
       "      <td>15327</td>\n",
       "      <td>3778</td>\n",
       "      <td>0</td>\n",
       "      <td>966</td>\n",
       "      <td>0</td>\n",
       "      <td>32</td>\n",
       "    </tr>\n",
       "    <tr>\n",
       "      <th>2018-07-02 08:00:00+00:00</th>\n",
       "      <td>2216</td>\n",
       "      <td>14561</td>\n",
       "      <td>3784</td>\n",
       "      <td>0</td>\n",
       "      <td>964</td>\n",
       "      <td>0</td>\n",
       "      <td>31</td>\n",
       "    </tr>\n",
       "    <tr>\n",
       "      <th>2018-07-02 09:00:00+00:00</th>\n",
       "      <td>2213</td>\n",
       "      <td>14400</td>\n",
       "      <td>3782</td>\n",
       "      <td>0</td>\n",
       "      <td>981</td>\n",
       "      <td>0</td>\n",
       "      <td>32</td>\n",
       "    </tr>\n",
       "  </tbody>\n",
       "</table>\n",
       "</div>"
      ],
      "text/plain": [
       "                            COL     NG   NUC  OIL   OTH  SUN  WAT\n",
       "date                                                             \n",
       "2018-07-02 05:00:00+00:00  2749  18166  3778    0  1017    0   32\n",
       "2018-07-02 06:00:00+00:00  2427  16553  3785    0   983    0   31\n",
       "2018-07-02 07:00:00+00:00  2264  15327  3778    0   966    0   32\n",
       "2018-07-02 08:00:00+00:00  2216  14561  3784    0   964    0   31\n",
       "2018-07-02 09:00:00+00:00  2213  14400  3782    0   981    0   32"
      ]
     },
     "execution_count": 120,
     "metadata": {},
     "output_type": "execute_result"
    }
   ],
   "source": [
    "df.head()"
   ]
  },
  {
   "cell_type": "code",
   "execution_count": 119,
   "metadata": {},
   "outputs": [
    {
     "data": {
      "text/plain": [
       "<AxesSubplot:xlabel='date'>"
      ]
     },
     "execution_count": 119,
     "metadata": {},
     "output_type": "execute_result"
    },
    {
     "data": {
      "image/png": "[encoded data removed]",
      "text/plain": [
       "<Figure size 432x288 with 1 Axes>"
      ]
     },
     "metadata": {
      "needs_background": "light"
     },
     "output_type": "display_data"
    }
   ],
   "source": [
    "df.plot()"
   ]
  },
  {
   "cell_type": "code",
   "execution_count": null,
   "metadata": {},
   "outputs": [],
   "source": []
  }
 ],
 "metadata": {
  "interpreter": {
   "hash": "8b372ac5b8d84d048c043c6ca139a9654477ecccce32474b3f3b10c066386dd2"
  },
  "kernelspec": {
   "display_name": "Python 3 (ipykernel)",
   "language": "python",
   "name": "python3"
  },
  "language_info": {
   "codemirror_mode": {
    "name": "ipython",
    "version": 3
   },
   "file_extension": ".py",
   "mimetype": "text/x-python",
   "name": "python",
   "nbconvert_exporter": "python",
   "pygments_lexer": "ipython3",
   "version": "3.8.10"
  }
 },
 "nbformat": 4,
 "nbformat_minor": 2
}
